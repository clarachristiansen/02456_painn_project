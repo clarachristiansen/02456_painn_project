{
 "cells": [
  {
   "cell_type": "markdown",
   "metadata": {},
   "source": [
    "# Spørgsmål til vejledning"
   ]
  },
  {
   "cell_type": "markdown",
   "metadata": {},
   "source": [
    "* De tre lineære lag i update funktion for U og V, giver det mening? - Det erstattede vi med et linært trick\n",
    "* Er det rigtigt forstået at dot product er af Uv og Vv?\n",
    "* Er cosine cutoff den samme som r_ij cutoff? - JA\n",
    "* E til sidst, skal det findes per atom eller per molekyle? - Det er per molekyle. Man samler værdien af hver atom i summen til sidst\n",
    "* Inf loss i den første, og nan anden. Hjælp, hjælp, hjælp. - Ikke godt, debug og tjek learning rate\n",
    "* Det tager lang tid - Helt sikkert en sum af de andre ting"
   ]
  },
  {
   "cell_type": "markdown",
   "metadata": {},
   "source": [
    "# Bugs(?)"
   ]
  },
  {
   "cell_type": "markdown",
   "metadata": {},
   "source": [
    "* Nogle gange er der 1789 rows og nogle gange er der 1829, hvad skyldes det? - Formodentlig fordi vi har ændret seed. Hvert seed giver batch_size_train (100 per default)  antal molekyler som igen giver y atomer."
   ]
  },
  {
   "cell_type": "markdown",
   "metadata": {},
   "source": [
    "# TODO\n",
    "* RBF skal være mere fleksibel og afhænge af num_rbf_features"
   ]
  }
 ],
 "metadata": {
  "kernelspec": {
   "display_name": "Python 3",
   "language": "python",
   "name": "python3"
  },
  "language_info": {
   "name": "python",
   "version": "3.12.6"
  }
 },
 "nbformat": 4,
 "nbformat_minor": 2
}
