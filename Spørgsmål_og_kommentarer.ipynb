{
 "cells": [
  {
   "cell_type": "markdown",
   "metadata": {},
   "source": [
    "# Spørgsmål til vejledning"
   ]
  },
  {
   "cell_type": "markdown",
   "metadata": {},
   "source": [
    "* De tre lineære lag i update funktion for U og V, giver det mening?\n",
    "* Er det rigtigt forstået at dot product er af Uv og Vv?"
   ]
  },
  {
   "cell_type": "code",
   "execution_count": null,
   "metadata": {},
   "outputs": [],
   "source": []
  },
  {
   "cell_type": "markdown",
   "metadata": {},
   "source": []
  }
 ],
 "metadata": {
  "language_info": {
   "name": "python"
  }
 },
 "nbformat": 4,
 "nbformat_minor": 2
}
